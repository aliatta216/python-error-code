{
 "cells": [
  {
   "cell_type": "code",
   "execution_count": 23,
   "metadata": {},
   "outputs": [],
   "source": [
    "import time\n",
    "import csv\n",
    "import pandas as pd\n",
    "from selenium import webdriver\n",
    "from webdriver_manager.chrome import ChromeDriverManager\n",
    "from time import sleep\n",
    "from bs4 import BeautifulSoup\n",
    "import urllib.request\n",
    "from urllib.request import Request, urlopen\n",
    "import requests\n",
    "from random import randint"
   ]
  },
  {
   "cell_type": "code",
   "execution_count": 24,
   "metadata": {},
   "outputs": [
    {
     "name": "stderr",
     "output_type": "stream",
     "text": [
      "[WDM] - Current google-chrome version is 86.0.4240\n",
      "[WDM] - Get LATEST driver version for 86.0.4240\n"
     ]
    },
    {
     "name": "stdout",
     "output_type": "stream",
     "text": [
      " \n"
     ]
    },
    {
     "name": "stderr",
     "output_type": "stream",
     "text": [
      "[WDM] - Driver [C:\\Users\\ALY ATTA\\.wdm\\drivers\\chromedriver\\win32\\86.0.4240.22\\chromedriver.exe] found in cache\n"
     ]
    }
   ],
   "source": [
    "driver = webdriver.Chrome(ChromeDriverManager().install())"
   ]
  },
  {
   "cell_type": "code",
   "execution_count": 25,
   "metadata": {},
   "outputs": [],
   "source": [
    "def login(url, driver):\n",
    "    driver.get(url)\n",
    "    driver.implicitly_wait(40) \n",
    "    driver.maximize_window() \n",
    "    driver.find_element_by_id(\"username\").send_keys('teronoxic69@gmail.com')\n",
    "    driver.find_element_by_id(\"password\").send_keys(\"prioryofsion\")\n",
    "    form = driver.find_element_by_class_name('btn__primary--large')\n",
    "    form.submit()"
   ]
  },
  {
   "cell_type": "code",
   "execution_count": 26,
   "metadata": {},
   "outputs": [],
   "source": [
    "base_url = 'https://www.linkedin.com/login?fromSignIn=true&trk=guest_homepage-basic_nav-header-signin/'"
   ]
  },
  {
   "cell_type": "code",
   "execution_count": 27,
   "metadata": {},
   "outputs": [
    {
     "name": "stdout",
     "output_type": "stream",
     "text": [
      "Logging in ...\n"
     ]
    }
   ],
   "source": [
    "print('Logging in ...')\n",
    "login(base_url, driver)\n",
    "time.sleep(5)"
   ]
  },
  {
   "cell_type": "code",
   "execution_count": 28,
   "metadata": {},
   "outputs": [],
   "source": [
    "visitingprofileID = '/in/aly-atta-b812191a9/'\n",
    "fullink = 'https://www.linkedin.com' + visitingprofileID\n",
    "driver.get(fullink)"
   ]
  },
  {
   "cell_type": "code",
   "execution_count": 29,
   "metadata": {},
   "outputs": [],
   "source": [
    "visitedprofiles = []\n",
    "profilesQueued = []\n",
    "profilesIDs  = []\n",
    "pav = []\n",
    "all_links = []"
   ]
  },
  {
   "cell_type": "code",
   "execution_count": 30,
   "metadata": {},
   "outputs": [],
   "source": [
    "def getprofileIDs(soup, profilesQueued):\n",
    "    profilesID = []\n",
    "    profilesIDs = []\n",
    "    pav = soup.find('section' , {'class': 'pv-ad-banner--light ad-banner-container is-header-zone ember-view'})\n",
    "    all_links = pav.findAll('a' , {'class':'pv-browsemap-section__member ember-view'})\n",
    "    for link in all_links: \n",
    "        userID = link.get('href')\n",
    "        if((userID not in profilesQueued) and (userID not in visitedprofiles )):\n",
    "            profilesID.append(userID)\n",
    "        return profilesID\n",
    "    \n"
   ]
  },
  {
   "cell_type": "code",
   "execution_count": 31,
   "metadata": {},
   "outputs": [],
   "source": [
    "getprofileIDs(BeautifulSoup(driver.page_source), profilesQueued)"
   ]
  },
  {
   "cell_type": "code",
   "execution_count": null,
   "metadata": {},
   "outputs": [],
   "source": []
  }
 ],
 "metadata": {
  "kernelspec": {
   "display_name": "Python 3",
   "language": "python",
   "name": "python3"
  },
  "language_info": {
   "codemirror_mode": {
    "name": "ipython",
    "version": 3
   },
   "file_extension": ".py",
   "mimetype": "text/x-python",
   "name": "python",
   "nbconvert_exporter": "python",
   "pygments_lexer": "ipython3",
   "version": "3.7.9"
  }
 },
 "nbformat": 4,
 "nbformat_minor": 4
}
